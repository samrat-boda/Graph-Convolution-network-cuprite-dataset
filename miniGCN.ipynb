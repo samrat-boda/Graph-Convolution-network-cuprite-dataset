{
 "cells": [
  {
   "cell_type": "code",
   "execution_count": 14,
   "metadata": {},
   "outputs": [],
   "source": [
    "import numpy as np\n",
    "import matplotlib.pyplot as plt\n",
    "import tensorflow as tf\n",
    "import scipy.io as scio \n",
    "import scipy.io as sio\n",
    "import math\n",
    "import scipy\n",
    "from tensorflow.python.framework import ops\n",
    "from scipy.sparse import csr_matrix \n",
    "tf.compat.v1.disable_eager_execution()\n"
   ]
  },
  {
   "cell_type": "code",
   "execution_count": 15,
   "metadata": {},
   "outputs": [],
   "source": [
    "def random_mini_batches_GCN(X, Y, L, mini_batch_size, seed):\n",
    "    \n",
    "    m = X.shape[0]\n",
    "    mini_batches = []\n",
    "    np.random.seed(seed)\n",
    "    \n",
    "    permutation = list(np.random.permutation(m))\n",
    "    shuffled_X = X[permutation, :]\n",
    "    shuffled_Y = Y[permutation, :].reshape((m, Y.shape[1]))\n",
    "    shuffled_L1 = L[permutation, :].reshape((L.shape[0], L.shape[1]), order = \"F\")\n",
    "    shuffled_L = shuffled_L1[:, permutation].reshape((L.shape[0], L.shape[1]), order = \"F\")\n",
    "\n",
    "    num_complete_minibatches = math.floor(m / mini_batch_size)\n",
    "    \n",
    "    for k in range(0, num_complete_minibatches):       \n",
    "        mini_batch_X = shuffled_X[k * mini_batch_size : k * mini_batch_size + mini_batch_size, :]\n",
    "        mini_batch_Y = shuffled_Y[k * mini_batch_size : k * mini_batch_size + mini_batch_size, :]\n",
    "        mini_batch_L = shuffled_L[k * mini_batch_size : k * mini_batch_size + mini_batch_size, k * mini_batch_size : k * mini_batch_size + mini_batch_size]\n",
    "        mini_batch = (mini_batch_X, mini_batch_Y, mini_batch_L)\n",
    "        mini_batches.append(mini_batch)\n",
    "    mini_batch = (X, Y, L) \n",
    "    mini_batches.append(mini_batch)\n",
    "    \n",
    "    return mini_batches\n"
   ]
  },
  {
   "cell_type": "code",
   "execution_count": 16,
   "metadata": {},
   "outputs": [],
   "source": [
    "def split_data(Labeled_points, Labels, test_size=0.3, random_state=42):\n",
    "     \n",
    "\n",
    "    # Set the random seed, if provided\n",
    "    if random_state is not None:\n",
    "        np.random.seed(random_state)\n",
    "\n",
    "    # Get the number of data points\n",
    "    num_points = Labeled_points.shape[0]\n",
    "\n",
    "    # Calculate the number of points to use for testing\n",
    "    num_test = int(num_points * test_size)\n",
    "\n",
    "    # Shuffle the indices of the data points\n",
    "    indices = np.random.permutation(num_points)\n",
    "\n",
    "    # Split the indices into training and testing sets\n",
    "    test_indices = indices[:num_test]\n",
    "    train_indices = indices[num_test:]\n",
    "\n",
    "    # Use the indices to get the training and testing data points and labels\n",
    "    X_train = Labeled_points[train_indices]\n",
    "    X_test = Labeled_points[test_indices]\n",
    "    y_train = Labels[train_indices]\n",
    "    y_test = Labels[test_indices]\n",
    "\n",
    "    return X_train, X_test, y_train, y_test"
   ]
  },
  {
   "cell_type": "code",
   "execution_count": 17,
   "metadata": {},
   "outputs": [],
   "source": [
    "\n",
    "\n",
    "def cosine_similarity(a, b):\n",
    "    dot_product = np.dot(a, b)\n",
    "    norm_a = np.linalg.norm(a)\n",
    "    norm_b = np.linalg.norm(b)\n",
    "    return dot_product / (norm_a * norm_b)\n",
    " \n",
    "def adjacency_matrix(ALL_X, k=10):     \n",
    "    N = ALL_X.shape[0]\n",
    "    A = np.zeros((N, N))\n",
    "    for i in range(N):\n",
    "        for j in range(N):\n",
    "            A[i, j] = cosine_similarity(ALL_X[i], ALL_X[j])\n",
    "    # Convert the graph to a sparse matrix and return it\n",
    "    ALL_L = csr_matrix(A)\n",
    "    return ALL_L"
   ]
  },
  {
   "cell_type": "code",
   "execution_count": 18,
   "metadata": {},
   "outputs": [],
   "source": [
    "def create_placeholders(n_x, n_y):\n",
    "\n",
    "    isTraining = tf.compat.v1.placeholder_with_default(True, shape=())\n",
    "    x_in = tf.compat.v1.placeholder(tf.float32,  [None, n_x], name = \"x_in\")\n",
    "    y_in = tf.compat.v1.placeholder(tf.float32, [None, n_y], name = \"y_in\")\n",
    "    lap_train = tf.compat.v1.placeholder(tf.float32, [None, None], name = \"lap_train\")\n",
    "    \n",
    "    return x_in, y_in, lap_train, isTraining"
   ]
  },
  {
   "cell_type": "code",
   "execution_count": 19,
   "metadata": {},
   "outputs": [],
   "source": [
    "\n",
    "def initialize_parameters():\n",
    "   \n",
    "    tf.compat.v1.set_random_seed(1)\n",
    "\n",
    "    x_w1 = tf.compat.v1.get_variable(\"x_w1\", [224,128], initializer = tf.compat.v1.keras.initializers.VarianceScaling(scale=1.0, mode=\"fan_avg\", distribution=\"uniform\", seed = 1))\n",
    "    x_b1 = tf.compat.v1.get_variable(\"x_b1\", [128], initializer = tf.compat.v1.zeros_initializer())\n",
    "\n",
    "    x_w2 = tf.compat.v1.get_variable(\"x_w2\", [128,12], initializer = tf.compat.v1.keras.initializers.VarianceScaling(scale=1.0, mode=\"fan_avg\", distribution=\"uniform\", seed = 1))\n",
    "    x_b2 = tf.compat.v1.get_variable(\"x_b2\", [12], initializer = tf.compat.v1.zeros_initializer())    \n",
    "\n",
    "    \n",
    "    parameters = {\"x_w1\": x_w1,\n",
    "                  \"x_b1\": x_b1,\n",
    "                  \"x_w2\": x_w2,\n",
    "                  \"x_b2\": x_b2}\n",
    "                  \n",
    "    return parameters\n"
   ]
  },
  {
   "cell_type": "code",
   "execution_count": 20,
   "metadata": {},
   "outputs": [],
   "source": [
    "\n",
    "def GCN_layer(x_in, L_, weights):\n",
    "\n",
    "    x_mid = tf.matmul(x_in, weights)\n",
    "    x_out = tf.matmul(L_, x_mid)\n",
    "    \n",
    "    return x_out"
   ]
  },
  {
   "cell_type": "code",
   "execution_count": 21,
   "metadata": {},
   "outputs": [],
   "source": [
    "def mynetwork(x, parameters, Lap, isTraining, momentums = 0.9):\n",
    "\n",
    "    with tf.compat.v1.name_scope(\"x_layer_1\"):\n",
    "\n",
    "         x_z1_bn = tf.compat.v1.layers.batch_normalization(x, momentum = momentums, training = isTraining)             \n",
    "         x_z1 = GCN_layer(x_z1_bn, Lap, parameters['x_w1']) + parameters['x_b1']\n",
    "         x_z1_bn = tf.compat.v1.layers.batch_normalization(x_z1, momentum = momentums, training = isTraining)\n",
    "         x_a1 = tf.nn.relu(x_z1_bn)      \n",
    "         \n",
    "    with tf.compat.v1.name_scope(\"x_layer_3\"):\n",
    "        \n",
    "         x_z2_bn = tf.compat.v1.layers.batch_normalization(x_a1, momentum = momentums, training = isTraining)        \n",
    "         x_z2 = GCN_layer(x_z2_bn, Lap, parameters['x_w2']) + parameters['x_b2']         \n",
    "\n",
    "    l2_loss =  tf.nn.l2_loss(parameters['x_w1']) + tf.nn.l2_loss(parameters['x_w2'])\n",
    "                \n",
    "    return x_z2, l2_loss"
   ]
  },
  {
   "cell_type": "code",
   "execution_count": 22,
   "metadata": {},
   "outputs": [],
   "source": [
    "def mynetwork_optimaization(y_est, y_re, l2_loss, reg, learning_rate, global_step):\n",
    "    \n",
    "    y_re = tf.squeeze(y_re, name = 'y_re')\n",
    "    \n",
    "    with tf.compat.v1.name_scope(\"cost\"):\n",
    "         cost = tf.reduce_mean(tf.nn.softmax_cross_entropy_with_logits(logits = y_est, labels = tf.stop_gradient( y_re))) +  reg * l2_loss\n",
    "         \n",
    "    with tf.compat.v1.name_scope(\"optimization\"):\n",
    "         update_ops = tf.compat.v1.get_collection(tf.compat.v1.GraphKeys.UPDATE_OPS)\n",
    "    with tf.control_dependencies(update_ops):\n",
    "         optimizer = tf.compat.v1.train.AdamOptimizer(learning_rate = learning_rate).minimize(cost,  global_step=global_step)\n",
    "         optimizer = tf.group([optimizer, update_ops])\n",
    "         \n",
    "    return cost, optimizer\n"
   ]
  },
  {
   "cell_type": "code",
   "execution_count": 23,
   "metadata": {},
   "outputs": [],
   "source": [
    "\n",
    "def network_accuracy(x_out, y_in):\n",
    "    \n",
    "    correct_prediction = tf.equal(tf.argmax(x_out, 1), tf.argmax(y_in, 1))\n",
    "    accuracy = tf.reduce_mean(tf.cast(correct_prediction, \"float\"))\n",
    "         \n",
    "    return accuracy"
   ]
  },
  {
   "cell_type": "code",
   "execution_count": 24,
   "metadata": {},
   "outputs": [],
   "source": [
    "def train_mynetwork(x_train, x_test, y_train, y_test, L_train, L_test, learning_rate_base = 0.001, beta_reg = 0.001, num_epochs = 200, minibatch_size = 32, print_cost = True):\n",
    "    \n",
    "    ops.reset_default_graph()    \n",
    "    tf.compat.v1.set_random_seed(1)                          \n",
    "    seed = 1                                                         \n",
    "    (m, n_x) = x_train.shape\n",
    "    (m, n_y) = y_train.shape\n",
    "    \n",
    "    costs = []                                        \n",
    "    costs_dev = []\n",
    "    train_acc = []\n",
    "    val_acc = []\n",
    "    \n",
    "    x_in, y_in, lap_train, isTraining = create_placeholders(n_x, n_y) \n",
    "\n",
    "    parameters = initialize_parameters()\n",
    "    \n",
    "    with tf.compat.v1.name_scope(\"network\"):\n",
    "         x_out, l2_loss = mynetwork(x_in, parameters, lap_train, isTraining)\n",
    "\n",
    "    global_step = tf.Variable(0, trainable=False)\n",
    "    learning_rate = tf.compat.v1.train.exponential_decay(learning_rate_base, global_step, 50 * m/minibatch_size, 0.5, staircase = True)\n",
    "    \n",
    "    with tf.compat.v1.name_scope(\"optimization\"):\n",
    "         cost, optimizer = mynetwork_optimaization(x_out, y_in, l2_loss, beta_reg, learning_rate, global_step)\n",
    "\n",
    "    with tf.compat.v1.name_scope(\"metrics\"):\n",
    "         accuracy = network_accuracy(x_out, y_in)\n",
    "\n",
    "    init = tf.compat.v1.global_variables_initializer()\n",
    "\n",
    "    with tf.compat.v1.Session() as sess:\n",
    "        \n",
    "        sess.run(init)\n",
    "      \n",
    "        # Do the training loop\n",
    "        for epoch in range(num_epochs + 1):\n",
    "            epoch_cost = 0.\n",
    "            epoch_acc = 0.\n",
    "            \n",
    "            num_minibatches = int(m / minibatch_size) # number of minibatches of size minibatch_size in the train set\n",
    "            seed = seed + 1\n",
    "            \n",
    "            minibatches = random_mini_batches_GCN(x_train, y_train, L_train, minibatch_size, seed)\n",
    "            \n",
    "            for minibatch in minibatches:\n",
    "\n",
    "                # Select a minibatch\n",
    "                (batch_x, batch_y, batch_l) = minibatch\n",
    "                # IMPORTANT: The line that runs the graph on a minibatch.\n",
    "                # Run the session to execute the \"optimizer\" and the \"cost\", the feedict should contain a minibatch for (X,Y).\n",
    "                _, minibatch_cost, minibatch_acc = sess.run([optimizer, cost, accuracy], feed_dict={x_in: batch_x, y_in: batch_y, lap_train: batch_l, isTraining: True})           \n",
    "                epoch_cost += minibatch_cost \n",
    "                epoch_acc += minibatch_acc\n",
    "\n",
    "            epoch_cost_train = epoch_cost / (num_minibatches+ 1) \n",
    "            epoch_acc_train = epoch_acc / (num_minibatches+ 1) \n",
    "\n",
    "           \n",
    "            if print_cost == True and epoch % 50 == 0:\n",
    "                features, epoch_cost_test, epoch_acc_test = sess.run([x_out, cost, accuracy], feed_dict={x_in: x_test, y_in: y_test, lap_train: L_test, isTraining: False})\n",
    "                print (\"epoch %i: Train_loss: %f, Val_loss: %f, Train_acc: %f, Val_acc: %f\" % (epoch, epoch_cost_train, epoch_cost_test, epoch_acc_train, epoch_acc_test))\n",
    "            \n",
    "            if print_cost == True and epoch % 5 == 0:\n",
    "                costs.append(epoch_cost_train)\n",
    "                train_acc.append(epoch_acc_train)\n",
    "                costs_dev.append(epoch_cost_test)\n",
    "                val_acc.append(epoch_acc_test)\n",
    "\n",
    "        # plot the cost      \n",
    "        plt.plot(np.squeeze(costs))\n",
    "        plt.plot(np.squeeze(costs_dev))\n",
    "        plt.ylabel('cost')\n",
    "        plt.xlabel('iterations (per tens)')\n",
    "        plt.title(\"Learning rate =\" + str(learning_rate))\n",
    "        plt.show()\n",
    "        \n",
    "        # plot the accuracy \n",
    "        plt.plot(np.squeeze(train_acc))\n",
    "        plt.plot(np.squeeze(val_acc))\n",
    "        plt.ylabel('accuracy')\n",
    "        plt.xlabel('iterations (per tens)')\n",
    "        plt.title(\"Learning rate =\" + str(learning_rate))\n",
    "        plt.show()\n",
    "      \n",
    "        # lets save the parameters in a variable\n",
    "        parameters = sess.run(parameters)\n",
    "        print (\"Parameters have been trained!\")\n",
    "       \n",
    "       \n",
    "        return parameters, val_acc, features\n"
   ]
  },
  {
   "cell_type": "code",
   "execution_count": 25,
   "metadata": {},
   "outputs": [
    {
     "name": "stdout",
     "output_type": "stream",
     "text": [
      "epoch 0: Train_loss: 2.013696, Val_loss: 2.320472, Train_acc: 0.382360, Val_acc: 0.311111\n",
      "epoch 50: Train_loss: 0.793564, Val_loss: 0.931745, Train_acc: 0.757982, Val_acc: 0.707937\n",
      "epoch 100: Train_loss: 0.706614, Val_loss: 0.921367, Train_acc: 0.785383, Val_acc: 0.704762\n",
      "epoch 150: Train_loss: 0.653263, Val_loss: 0.923607, Train_acc: 0.801234, Val_acc: 0.711111\n",
      "epoch 200: Train_loss: 0.649217, Val_loss: 0.951212, Train_acc: 0.801234, Val_acc: 0.695238\n"
     ]
    },
    {
     "data": {
      "image/png": "[encoded data removed]",
      "text/plain": [
       "<Figure size 432x288 with 1 Axes>"
      ]
     },
     "metadata": {
      "needs_background": "light"
     },
     "output_type": "display_data"
    },
    {
     "data": {
      "image/png": "[encoded data removed]",
      "text/plain": [
       "<Figure size 432x288 with 1 Axes>"
      ]
     },
     "metadata": {
      "needs_background": "light"
     },
     "output_type": "display_data"
    },
    {
     "name": "stdout",
     "output_type": "stream",
     "text": [
      "Parameters have been trained!\n"
     ]
    }
   ],
   "source": [
    "\n",
    "Labeled_points = scipy.io.loadmat('Labeled_Cuprite_Data/data_points.mat')['data_points']\n",
    "maxVal = np.amax(Labeled_points)\n",
    "minVal = np.amin(Labeled_points)\n",
    "Labeled_points_shifted = Labeled_points + abs(minVal)\n",
    "Labeled_points_norm = Labeled_points_shifted / (abs(minVal) + abs(maxVal))\n",
    "Labeled_points_norm = Labeled_points_norm + 1e-6\n",
    "\n",
    "Labels = scipy.io.loadmat('Labeled_Cuprite_Data/labels.mat')['labels']\n",
    "Labels = Labels.T\n",
    "num_classes = 12\n",
    "Labels_onehot = tf.keras.utils.to_categorical(Labels, num_classes)\n",
    "X_train, X_test, Y_train, Y_test = split_data(Labeled_points, Labels_onehot, test_size=0.3) \n",
    "Train_L = adjacency_matrix(X_train) \n",
    "Train_L = Train_L.astype(int)\n",
    "Train_L = Train_L.todense() \n",
    "\n",
    "Test_L = adjacency_matrix(X_test) \n",
    "Test_L = Test_L.astype(int)\n",
    "Test_L = Test_L.todense() \n",
    " \n",
    "parameters, val_acc, features = train_mynetwork(X_train, X_test, Y_train, Y_test, Train_L, Test_L)\n",
    "sio.savemat('features.mat', {'features': features})"
   ]
  }
 ],
 "metadata": {
  "kernelspec": {
   "display_name": "tf",
   "language": "python",
   "name": "python3"
  },
  "language_info": {
   "codemirror_mode": {
    "name": "ipython",
    "version": 3
   },
   "file_extension": ".py",
   "mimetype": "text/x-python",
   "name": "python",
   "nbconvert_exporter": "python",
   "pygments_lexer": "ipython3",
   "version": "3.7.16"
  },
  "orig_nbformat": 4
 },
 "nbformat": 4,
 "nbformat_minor": 2
}
