{
 "cells": [
  {
   "cell_type": "code",
   "execution_count": 1,
   "metadata": {},
   "outputs": [],
   "source": [
    "import numpy as np\n",
    "import matplotlib.pyplot as plt \n",
    "import tensorflow as tf\n",
    "import scipy.io  \n",
    "from tensorflow.python.framework import ops  \n",
    "from scipy.io.matlab import whosmat"
   ]
  },
  {
   "cell_type": "code",
   "execution_count": 9,
   "metadata": {},
   "outputs": [],
   "source": [
    "import numpy as np\n",
    "\n",
    "def split_data(Labeled_points, Labels, test_size=0.3, random_state=None):\n",
    "    \"\"\"Splits the labeled data into training and testing datasets.\n",
    "\n",
    "    Parameters:\n",
    "        Labeled_points (np.ndarray): Labeled data points.\n",
    "        Labels (np.ndarray): Labels for the data points.\n",
    "        test_size (float): Fraction of the data to use for testing (default: 0.3).\n",
    "        random_state (int): Seed value for the random number generator (default: None).\n",
    "\n",
    "    Returns:\n",
    "        Tuple containing four np.ndarray objects:\n",
    "            - X_train: Training data points.\n",
    "            - X_test: Testing data points.\n",
    "            - y_train: Labels for the training data points.\n",
    "            - y_test: Labels for the testing data points.\n",
    "    \"\"\"\n",
    "\n",
    "    # Set the random seed, if provided\n",
    "    if random_state is not None:\n",
    "        np.random.seed(random_state)\n",
    "\n",
    "    # Get the number of data points\n",
    "    num_points = Labeled_points.shape[0]\n",
    "\n",
    "    # Calculate the number of points to use for testing\n",
    "    num_test = int(num_points * test_size)\n",
    "\n",
    "    # Shuffle the indices of the data points\n",
    "    indices = np.random.permutation(num_points)\n",
    "\n",
    "    # Split the indices into training and testing sets\n",
    "    test_indices = indices[:num_test]\n",
    "    train_indices = indices[num_test:]\n",
    "\n",
    "    # Use the indices to get the training and testing data points and labels\n",
    "    X_train = Labeled_points[train_indices]\n",
    "    X_test = Labeled_points[test_indices]\n",
    "    y_train = Labels[train_indices]\n",
    "    y_test = Labels[test_indices]\n",
    "\n",
    "    return X_train, X_test, y_train, y_test\n"
   ]
  },
  {
   "cell_type": "code",
   "execution_count": 19,
   "metadata": {},
   "outputs": [
    {
     "name": "stdout",
     "output_type": "stream",
     "text": [
      "[('X', (512, 614, 224), 'int16')]\n",
      "(512, 614, 224)\n"
     ]
    }
   ],
   "source": [
    "Labeled_points = scipy.io.loadmat('Labeled_Cuprite_Data/data_points.mat')['data_points']\n",
    "Labels = scipy.io.loadmat('Labeled_Cuprite_Data/labels.mat')['labels'] \n",
    "Labels=Labels.T\n",
    "Cuprite_data = scipy.io.loadmat('Cuprite.mat') "
   ]
  },
  {
   "cell_type": "code",
   "execution_count": 15,
   "metadata": {},
   "outputs": [
    {
     "name": "stdout",
     "output_type": "stream",
     "text": [
      "(736, 224) (315, 224) (736, 1) (315, 1)\n"
     ]
    }
   ],
   "source": [
    "X_train, X_test, y_train, y_test=split_data(Labeled_points, Labels, test_size=0.3, random_state=None)\n",
    "print(X_train.shape, X_test.shape, y_train.shape, y_test.shape)"
   ]
  }
 ],
 "metadata": {
  "kernelspec": {
   "display_name": "Python 3",
   "language": "python",
   "name": "python3"
  },
  "language_info": {
   "codemirror_mode": {
    "name": "ipython",
    "version": 3
   },
   "file_extension": ".py",
   "mimetype": "text/x-python",
   "name": "python",
   "nbconvert_exporter": "python",
   "pygments_lexer": "ipython3",
   "version": "3.10.0"
  }
 },
 "nbformat": 4,
 "nbformat_minor": 2
}
