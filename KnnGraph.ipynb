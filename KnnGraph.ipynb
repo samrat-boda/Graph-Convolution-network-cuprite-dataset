{
 "cells": [
  {
   "cell_type": "code",
   "execution_count": 2,
   "metadata": {},
   "outputs": [
    {
     "name": "stdout",
     "output_type": "stream",
     "text": [
      "(512, 614, 224)\n"
     ]
    }
   ],
   "source": [
    "import numpy as np\n",
    "import scipy\n",
    "from scipy import sparse\n",
    "from scipy.io import savemat\n",
    "from scipy.sparse import csr_matrix\n",
    "from sklearn.neighbors import NearestNeighbors\n",
    "\n",
    "Cuprite_data = scipy.io.loadmat('Cuprite.mat')\n",
    "Cuprite_data =Cuprite_data['X'] \n",
    "CmaxVal=np.amax(Cuprite_data)\n",
    "CminVal=np.amin(Cuprite_data) \n",
    "Cuprite_shifted = Cuprite_data + abs(CminVal) \n",
    "Cuprite_norm = Cuprite_shifted / (abs(CminVal) + abs(CmaxVal))\n",
    "Cuprite_norm = Cuprite_norm + 1e-6\n",
    "print(Cuprite_norm.shape)\n",
    "Cuprite_norm= Cuprite_norm.reshape(-1, Cuprite_norm.shape[-1]) \n",
    " \n",
    "# Create a KNN model with k=10\n",
    "knn_model = NearestNeighbors(n_neighbors=10, algorithm='kd_tree')\n",
    "knn_model.fit(Cuprite_norm)\n",
    "\n",
    "# Use the KNN model to predict the nearest neighbors\n",
    "_, indices = knn_model.kneighbors(Cuprite_norm)\n",
    "\n",
    "# Create the adjacency matrix as a sparse CSR matrix\n",
    "n = len(Cuprite_norm)\n",
    "k = 10\n",
    "indptr = np.arange(0, n*k+1, k)\n",
    "adj_matrix = csr_matrix((np.ones(n*k), indices.ravel(), indptr), shape=(n, n))\n",
    "\n",
    "# Save sparse matrix to MATLAB file\n",
    "savemat('adj_sparse.mat', {'adj_sparse': adj_matrix})\n"
   ]
  }
 ],
 "metadata": {
  "kernelspec": {
   "display_name": "GCN",
   "language": "python",
   "name": "python3"
  },
  "language_info": {
   "codemirror_mode": {
    "name": "ipython",
    "version": 3
   },
   "file_extension": ".py",
   "mimetype": "text/x-python",
   "name": "python",
   "nbconvert_exporter": "python",
   "pygments_lexer": "ipython3",
   "version": "3.7.16"
  },
  "orig_nbformat": 4
 },
 "nbformat": 4,
 "nbformat_minor": 2
}
